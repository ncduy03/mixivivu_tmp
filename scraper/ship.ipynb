{
 "cells": [
  {
   "cell_type": "code",
   "id": "initial_id",
   "metadata": {
    "collapsed": true,
    "ExecuteTime": {
     "end_time": "2025-03-28T10:53:33.881589Z",
     "start_time": "2025-03-28T10:53:33.865945Z"
    }
   },
   "source": [
    "import requests\n",
    "import csv"
   ],
   "outputs": [],
   "execution_count": 7
  },
  {
   "metadata": {
    "ExecuteTime": {
     "end_time": "2025-03-28T10:53:33.897641Z",
     "start_time": "2025-03-28T10:53:33.881589Z"
    }
   },
   "cell_type": "code",
   "source": [
    "api_ship = \"https://mixivivu.com/api/products/get-list?size=5&page=\"\n",
    "page = 1"
   ],
   "id": "a50e430f6ebf6488",
   "outputs": [],
   "execution_count": 8
  },
  {
   "metadata": {
    "ExecuteTime": {
     "end_time": "2025-03-28T10:53:37.410936Z",
     "start_time": "2025-03-28T10:53:33.915663Z"
    }
   },
   "cell_type": "code",
   "source": [
    "with open(\"../data/ship.csv\", \"w\", encoding=\"utf-8\", newline=\"\") as csv_file:\n",
    "    writer = csv.writer(csv_file)\n",
    "    writer.writerow([\"ship_id\", \"title\", \"launch\", \"cabin\", \"shell\", \"trip\", \"admin\", \"price\", \"address\", \"map_link\", \"features\", \"short_description\", \"long_description\", \"rooms\"])\n",
    "\n",
    "    while True:\n",
    "        try:\n",
    "            response = requests.get(api_ship + str(page))\n",
    "            response.raise_for_status()\n",
    "\n",
    "            data = response.json()\n",
    "            ships = data.get(\"result\", {}).get(\"data\", [])\n",
    "\n",
    "            if not ships:\n",
    "                print(f\"No more data on page {page}. Stopping...\")\n",
    "                break\n",
    "\n",
    "            for ship in ships:\n",
    "                ship_id = ship.get(\"_id\")\n",
    "                title = ship.get(\"title\")\n",
    "\n",
    "                launch = ship.get(\"spec\", {}).get(\"ship\", {}).get(\"launch\")\n",
    "                cabin = ship.get(\"spec\", {}).get(\"ship\", {}).get(\"cabin\")\n",
    "                shell = ship.get(\"spec\", {}).get(\"ship\", {}).get(\"shell\")\n",
    "                trip = ship.get(\"spec\", {}).get(\"ship\", {}).get(\"trip\")\n",
    "                admin = ship.get(\"spec\", {}).get(\"ship\", {}).get(\"admin\")\n",
    "                price = ship.get(\"defaultPrice\")\n",
    "\n",
    "                address = ship.get(\"address\")\n",
    "                map_link = ship.get(\"mapLink\")\n",
    "\n",
    "                features = ship.get(\"features\")\n",
    "\n",
    "                short_description = ship.get(\"shortDescription\")\n",
    "                long_description = ship.get(\"longDescription\")\n",
    "\n",
    "                rooms = ship.get(\"rooms\")\n",
    "\n",
    "                writer.writerow([ship_id, title, launch, cabin, shell, trip, admin, price, address, map_link, features, short_description, long_description, rooms])\n",
    "                # print(f\"Saved ship: {title}\")\n",
    "\n",
    "            page += 1\n",
    "        except requests.RequestException as e:\n",
    "            print(f\"Error while fetching page {page}: {e}\")\n",
    "            break\n",
    "\n",
    "print(\"Data crawling and saving completed!\")"
   ],
   "id": "48fe3c37405b4720",
   "outputs": [
    {
     "name": "stdout",
     "output_type": "stream",
     "text": [
      "No more data on page 15. Stopping...\n",
      "Data crawling and saving completed!\n"
     ]
    }
   ],
   "execution_count": 9
  }
 ],
 "metadata": {
  "kernelspec": {
   "display_name": "Python 3",
   "language": "python",
   "name": "python3"
  },
  "language_info": {
   "codemirror_mode": {
    "name": "ipython",
    "version": 2
   },
   "file_extension": ".py",
   "mimetype": "text/x-python",
   "name": "python",
   "nbconvert_exporter": "python",
   "pygments_lexer": "ipython2",
   "version": "2.7.6"
  }
 },
 "nbformat": 4,
 "nbformat_minor": 5
}
