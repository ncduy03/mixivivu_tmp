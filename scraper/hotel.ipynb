{
 "cells": [
  {
   "cell_type": "code",
   "metadata": {
    "ExecuteTime": {
     "end_time": "2025-03-28T10:18:10.734573Z",
     "start_time": "2025-03-28T10:18:10.703306Z"
    }
   },
   "source": [
    "import requests\n",
    "import csv"
   ],
   "outputs": [],
   "execution_count": 5
  },
  {
   "metadata": {
    "ExecuteTime": {
     "end_time": "2025-03-28T10:18:10.750198Z",
     "start_time": "2025-03-28T10:18:10.734573Z"
    }
   },
   "cell_type": "code",
   "source": [
    "api_hotel = \"https://mixivivu.com/api/hotels/get-list?size=5&page=\"\n",
    "page = 1"
   ],
   "outputs": [],
   "execution_count": 6
  },
  {
   "metadata": {
    "ExecuteTime": {
     "end_time": "2025-03-28T10:18:26.557640Z",
     "start_time": "2025-03-28T10:18:10.765826Z"
    }
   },
   "cell_type": "code",
   "source": [
    "with open(\"../data/hotel.csv\", \"w\", encoding=\"utf-8\", newline=\"\") as csv_file:\n",
    "    writer = csv.writer(csv_file)\n",
    "    writer.writerow([\"hotel_id\", \"title\", \"total_rooms\", \"admin\", \"price\", \"city\", \"address\", \"map_link\", \"features\", \"short_description\", \"long_description\", \"rooms\"])\n",
    "\n",
    "    while True:\n",
    "        try:\n",
    "            response = requests.get(api_hotel + str(page))\n",
    "            response.raise_for_status()\n",
    "\n",
    "            data = response.json()\n",
    "            hotels = data.get(\"result\", {}).get(\"data\", [])\n",
    "\n",
    "            if not hotels:\n",
    "                print(f\"No more data on page {page}. Stopping...\")\n",
    "                break\n",
    "\n",
    "            for hotel in hotels:\n",
    "                hotel_id = hotel.get(\"_id\")\n",
    "                title = hotel.get(\"title\")\n",
    "                total_rooms = hotel.get(\"spec\", {}).get(\"hotel\", {}).get(\"totalRooms\")\n",
    "                admin = hotel.get(\"spec\", {}).get(\"hotel\", {}).get(\"admin\")\n",
    "\n",
    "                price = hotel.get(\"defaultPrice\")\n",
    "\n",
    "                city = hotel.get(\"city\", {}).get(\"name\")\n",
    "                address = hotel.get(\"address\")\n",
    "                map_link = hotel.get(\"mapLink\")\n",
    "\n",
    "                short_description = hotel.get(\"shortDescription\")\n",
    "\n",
    "                features_list = hotel.get(\"features\", [])\n",
    "                features = \", \".join(feature.get(\"text\", \"\") for feature in features_list)\n",
    "\n",
    "                long_description = hotel.get(\"longDescription\")\n",
    "                rooms = hotel.get(\"rooms\")\n",
    "\n",
    "                writer.writerow([hotel_id, title, total_rooms, admin, price, city, address, map_link, features, short_description, long_description, rooms])\n",
    "\n",
    "            page += 1\n",
    "        except requests.RequestException as e:\n",
    "            print(f\"Error while fetching page {page}: {e}\")\n",
    "            break\n",
    "\n",
    "print(\"Data crawling and saving completed!\")"
   ],
   "outputs": [
    {
     "name": "stdout",
     "output_type": "stream",
     "text": [
      "No more data on page 45. Stopping...\n",
      "Data crawling and saving completed!\n"
     ]
    }
   ],
   "execution_count": 7
  }
 ],
 "metadata": {
  "kernelspec": {
   "display_name": "base",
   "language": "python",
   "name": "python3"
  },
  "language_info": {
   "name": "python",
   "version": "3.12.7"
  }
 },
 "nbformat": 4,
 "nbformat_minor": 2
}
