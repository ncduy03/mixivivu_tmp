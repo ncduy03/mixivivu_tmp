{
 "cells": [
  {
   "metadata": {
    "ExecuteTime": {
     "end_time": "2025-03-28T10:12:58.675450Z",
     "start_time": "2025-03-28T10:12:58.659806Z"
    }
   },
   "cell_type": "code",
   "source": [
    "import requests\n",
    "import csv\n",
    "from datetime import datetime"
   ],
   "id": "78a213b01a5cac5",
   "outputs": [],
   "execution_count": 23
  },
  {
   "cell_type": "code",
   "id": "initial_id",
   "metadata": {
    "collapsed": true,
    "ExecuteTime": {
     "end_time": "2025-03-28T10:12:58.694402Z",
     "start_time": "2025-03-28T10:12:58.678723Z"
    }
   },
   "source": [
    "api_blog = \"https://mixivivu.com/api/blogs/get-list?size=6&page=\"\n",
    "page = 1"
   ],
   "outputs": [],
   "execution_count": 24
  },
  {
   "metadata": {
    "ExecuteTime": {
     "end_time": "2025-03-28T10:12:58.948331Z",
     "start_time": "2025-03-28T10:12:58.710448Z"
    }
   },
   "cell_type": "code",
   "source": [
    "with open(\"../data/blog.csv\", \"w\", encoding=\"utf-8\", newline=\"\") as csv_file:\n",
    "    writer = csv.writer(csv_file)\n",
    "    writer.writerow([\"blog_id\", \"title\", \"short_description\", \"long_description\", \"created_date\"])\n",
    "\n",
    "    # while True:\n",
    "    while page <= 1:\n",
    "        try:\n",
    "            response = requests.get(api_blog + str(page))\n",
    "            response.raise_for_status()\n",
    "\n",
    "            data = response.json()\n",
    "            blogs = data.get(\"result\", {}).get(\"result\", {}).get(\"data\", [])\n",
    "\n",
    "            if not blogs:\n",
    "                print(f\"No more data on page {page}. Stopping...\")\n",
    "                break\n",
    "\n",
    "            for blog in blogs:\n",
    "                blog_id = blog.get(\"_id\")\n",
    "                title = blog.get(\"title\")\n",
    "                created_date = blog.get(\"createdDate\")\n",
    "                created_date = datetime.strptime(created_date, \"%Y-%m-%dT%H:%M:%S.%fZ\").strftime(\"%d/%m/%Y\")\n",
    "\n",
    "                short_description = blog.get(\"shortDescription\")\n",
    "                long_description = blog.get(\"longDescription\")\n",
    "\n",
    "                writer.writerow([blog_id, title, short_description, long_description, created_date])\n",
    "\n",
    "                # print(f\"Saved blog: {title}\")\n",
    "\n",
    "            page += 1\n",
    "        except requests.RequestException as e:\n",
    "            print(f\"Error while fetching page {page}: {e}\")\n",
    "            break\n",
    "\n",
    "print(\"Data crawling and saving completed!\")"
   ],
   "id": "d278304e1d0ee4c0",
   "outputs": [
    {
     "name": "stdout",
     "output_type": "stream",
     "text": [
      "Data crawling and saving completed!\n"
     ]
    }
   ],
   "execution_count": 25
  }
 ],
 "metadata": {
  "kernelspec": {
   "display_name": "Python 3",
   "language": "python",
   "name": "python3"
  },
  "language_info": {
   "codemirror_mode": {
    "name": "ipython",
    "version": 2
   },
   "file_extension": ".py",
   "mimetype": "text/x-python",
   "name": "python",
   "nbconvert_exporter": "python",
   "pygments_lexer": "ipython2",
   "version": "2.7.6"
  }
 },
 "nbformat": 4,
 "nbformat_minor": 5
}
