{
 "cells": [
  {
   "metadata": {
    "ExecuteTime": {
     "end_time": "2025-03-28T10:59:25.114198Z",
     "start_time": "2025-03-28T10:59:25.019644Z"
    }
   },
   "cell_type": "code",
   "source": [
    "import requests\n",
    "import csv\n",
    "from datetime import datetime"
   ],
   "id": "78a213b01a5cac5",
   "outputs": [],
   "execution_count": 1
  },
  {
   "cell_type": "code",
   "id": "initial_id",
   "metadata": {
    "collapsed": true,
    "ExecuteTime": {
     "end_time": "2025-03-28T10:59:25.145532Z",
     "start_time": "2025-03-28T10:59:25.114198Z"
    }
   },
   "source": [
    "api_blog = \"https://mixivivu.com/api/blogs/get-list?size=6&page=\"\n",
    "page = 1"
   ],
   "outputs": [],
   "execution_count": 2
  },
  {
   "metadata": {
    "ExecuteTime": {
     "end_time": "2025-03-28T10:59:29.658855Z",
     "start_time": "2025-03-28T10:59:25.145532Z"
    }
   },
   "cell_type": "code",
   "source": [
    "with open(\"../data/blog.csv\", \"w\", encoding=\"utf-8\", newline=\"\") as csv_file:\n",
    "    writer = csv.writer(csv_file)\n",
    "    writer.writerow([\"blog_id\", \"title\", \"short_description\", \"long_description\", \"created_date\"])\n",
    "\n",
    "    while True:\n",
    "        try:\n",
    "            response = requests.get(api_blog + str(page))\n",
    "            response.raise_for_status()\n",
    "\n",
    "            data = response.json()\n",
    "            blogs = data.get(\"result\", {}).get(\"result\", {}).get(\"data\", [])\n",
    "\n",
    "            if not blogs:\n",
    "                print(f\"No more data on page {page}. Stopping...\")\n",
    "                break\n",
    "\n",
    "            for blog in blogs:\n",
    "                blog_id = blog.get(\"_id\")\n",
    "                title = blog.get(\"title\")\n",
    "                created_date = blog.get(\"createdDate\")\n",
    "                created_date = datetime.strptime(created_date, \"%Y-%m-%dT%H:%M:%S.%fZ\").strftime(\"%d/%m/%Y\")\n",
    "\n",
    "                short_description = blog.get(\"shortDescription\")\n",
    "                long_description = blog.get(\"longDescription\")\n",
    "\n",
    "                writer.writerow([blog_id, title, short_description, long_description, created_date])\n",
    "\n",
    "                # print(f\"Saved blog: {title}\")\n",
    "\n",
    "            page += 1\n",
    "        except requests.RequestException as e:\n",
    "            print(f\"Error while fetching page {page}: {e}\")\n",
    "            break\n",
    "\n",
    "print(\"Data crawling and saving completed!\")"
   ],
   "id": "d278304e1d0ee4c0",
   "outputs": [
    {
     "name": "stdout",
     "output_type": "stream",
     "text": [
      "No more data on page 19. Stopping...\n",
      "Data crawling and saving completed!\n"
     ]
    }
   ],
   "execution_count": 3
  }
 ],
 "metadata": {
  "kernelspec": {
   "display_name": "Python 3",
   "language": "python",
   "name": "python3"
  },
  "language_info": {
   "codemirror_mode": {
    "name": "ipython",
    "version": 2
   },
   "file_extension": ".py",
   "mimetype": "text/x-python",
   "name": "python",
   "nbconvert_exporter": "python",
   "pygments_lexer": "ipython2",
   "version": "2.7.6"
  }
 },
 "nbformat": 4,
 "nbformat_minor": 5
}
